{
 "cells": [
  {
   "cell_type": "code",
   "execution_count": 2,
   "id": "2b522057",
   "metadata": {},
   "outputs": [],
   "source": [
    "import mysql.connector\n",
    "import pandas as pd"
   ]
  },
  {
   "cell_type": "code",
   "execution_count": null,
   "id": "c07ecb46",
   "metadata": {},
   "outputs": [],
   "source": [
    "\n",
    "# Connect to MySQL\n",
    "conn = mysql.connector.connect(\n",
    "    host=\"localhost\",\n",
    "    user=\"root\",\n",
    "    password=\"fggh\",     # Replace this\n",
    "    database=\"ecommerce_sales\"      # Replace this\n",
    ")\n",
    "\n"
   ]
  },
  {
   "cell_type": "code",
   "execution_count": 5,
   "id": "c0373fc6",
   "metadata": {},
   "outputs": [
    {
     "name": "stderr",
     "output_type": "stream",
     "text": [
      "C:\\Users\\HP\\AppData\\Local\\Temp\\ipykernel_14940\\2550399902.py:3: UserWarning: pandas only supports SQLAlchemy connectable (engine/connection) or database string URI or sqlite3 DBAPI2 connection. Other DBAPI2 objects are not tested. Please consider using SQLAlchemy.\n",
      "  df = pd.read_sql(query, conn)\n"
     ]
    }
   ],
   "source": [
    "# Load the whole table\n",
    "query = \"SELECT * FROM sales_data\"\n",
    "df = pd.read_sql(query, conn)\n",
    "conn.close()"
   ]
  },
  {
   "cell_type": "code",
   "execution_count": 6,
   "id": "c3fb3b9f",
   "metadata": {},
   "outputs": [
    {
     "name": "stdout",
     "output_type": "stream",
     "text": [
      "  InvoiceNo StockCode       Description  Quantity         InvoiceDate  \\\n",
      "0  INV10000      P002       USB-C Cable         1 2023-07-20 06:29:00   \n",
      "1  INV10001      P009      Phone Holder         2 2023-11-04 05:37:00   \n",
      "2  INV10002      P004  Portable Charger         9 2023-01-20 07:44:00   \n",
      "3  INV10003      P004  Portable Charger         8 2023-07-22 13:44:00   \n",
      "4  INV10004      P007    Smart LED Bulb         6 2023-07-22 08:09:00   \n",
      "\n",
      "   UnitPrice  CustomerID    Country  \n",
      "0      28.26        3286    Germany  \n",
      "1       8.02        2535      Spain  \n",
      "2      58.32        9928  Australia  \n",
      "3      81.90        1106     France  \n",
      "4      19.77        6514    Germany  \n"
     ]
    }
   ],
   "source": [
    "# Quick look\n",
    "print(df.head())"
   ]
  },
  {
   "cell_type": "code",
   "execution_count": 7,
   "id": "67db75fa",
   "metadata": {},
   "outputs": [
    {
     "name": "stdout",
     "output_type": "stream",
     "text": [
      "Total Revenue: 2897879.16\n"
     ]
    }
   ],
   "source": [
    "# total revenue\n",
    "\n",
    "df['Revenue'] = df['Quantity'] * df['UnitPrice']\n",
    "print(\"Total Revenue:\", df['Revenue'].sum())\n"
   ]
  },
  {
   "cell_type": "code",
   "execution_count": null,
   "id": "16bcad92",
   "metadata": {},
   "outputs": [
    {
     "name": "stdout",
     "output_type": "stream",
     "text": [
      "Description\n",
      "Wireless Mouse       308538.07\n",
      "Laptop Stand         301376.44\n",
      "USB-C Cable          295983.09\n",
      "Gaming Headset       293760.35\n",
      "Smart LED Bulb       290924.08\n",
      "Notebook Cooler      290062.84\n",
      "Portable Charger     285687.68\n",
      "Phone Holder         281753.30\n",
      "Bluetooth Speaker    276569.82\n",
      "Webcam HD            273223.49\n",
      "Name: Revenue, dtype: float64\n"
     ]
    }
   ],
   "source": [
    "# top 10 products by revenue\n",
    "\n",
    "top_products = df.groupby('Description')['Revenue'].sum().sort_values(ascending=False).head(10)\n",
    "print(top_products)\n"
   ]
  },
  {
   "cell_type": "code",
   "execution_count": null,
   "id": "407b4e39",
   "metadata": {},
   "outputs": [
    {
     "name": "stdout",
     "output_type": "stream",
     "text": [
      "      Month    Revenue\n",
      "0   2023-01  267738.79\n",
      "1   2023-02  222825.64\n",
      "2   2023-03  237968.59\n",
      "3   2023-04  229699.11\n",
      "4   2023-05  247265.62\n",
      "5   2023-06  234331.60\n",
      "6   2023-07  241337.18\n",
      "7   2023-08  233628.47\n",
      "8   2023-09  240720.93\n",
      "9   2023-10  238550.89\n",
      "10  2023-11  251302.62\n",
      "11  2023-12  252509.72\n"
     ]
    }
   ],
   "source": [
    "# Monthly revenue trend (as tables)\n",
    "\n",
    "df['InvoiceDate'] = pd.to_datetime(df['InvoiceDate'])\n",
    "df['Month'] = df['InvoiceDate'].dt.to_period('M')\n",
    "\n",
    "monthly_revenue = df.groupby('Month')['Revenue'].sum().reset_index()\n",
    "print(monthly_revenue)\n"
   ]
  },
  {
   "cell_type": "code",
   "execution_count": null,
   "id": "3ce2ce8d",
   "metadata": {},
   "outputs": [
    {
     "name": "stdout",
     "output_type": "stream",
     "text": [
      "Country\n",
      "Norway            343453.95\n",
      "Australia         332868.31\n",
      "Spain             327136.23\n",
      "Italy             322997.98\n",
      "Germany           322266.28\n",
      "France            322212.31\n",
      "United Kingdom    314630.70\n",
      "Netherlands       308791.08\n",
      "Sweden            303522.32\n",
      "Name: Revenue, dtype: float64\n"
     ]
    }
   ],
   "source": [
    "# country wise revenue\n",
    "\n",
    "country_revenue = df.groupby('Country')['Revenue'].sum().sort_values(ascending=False)\n",
    "print(country_revenue)\n"
   ]
  },
  {
   "cell_type": "code",
   "execution_count": 11,
   "id": "27199c29",
   "metadata": {},
   "outputs": [
    {
     "name": "stdout",
     "output_type": "stream",
     "text": [
      "CustomerID\n",
      "7493    2414.00\n",
      "5006    2326.70\n",
      "6050    2294.78\n",
      "3078    2255.21\n",
      "2059    2204.82\n",
      "9173    2202.99\n",
      "7176    2168.62\n",
      "7750    2168.56\n",
      "2070    2148.99\n",
      "8645    2115.04\n",
      "Name: Revenue, dtype: float64\n"
     ]
    }
   ],
   "source": [
    "# top customers by spend\n",
    "\n",
    "top_customers = df.groupby('CustomerID')['Revenue'].sum().sort_values(ascending=False).head(10)\n",
    "print(top_customers)\n"
   ]
  },
  {
   "cell_type": "code",
   "execution_count": null,
   "id": "219c8d5c",
   "metadata": {},
   "outputs": [],
   "source": [
    "# loading csv into powerbi\n",
    "# export full transaction data\n",
    "df.to_csv(\"ecommerce_output.csv\", index=False)\n",
    "\n"
   ]
  },
  {
   "cell_type": "code",
   "execution_count": 13,
   "id": "3332164b",
   "metadata": {},
   "outputs": [],
   "source": [
    "# export monthly revenue summary\n",
    "monthly_revenue.to_csv(\"monthly_revenue.csv\", index=False)\n"
   ]
  },
  {
   "cell_type": "code",
   "execution_count": 14,
   "id": "50b51725",
   "metadata": {},
   "outputs": [],
   "source": [
    "# export top products by revenue\n",
    "top_products_df = top_products.reset_index().rename(columns={'Revenue': 'TotalRevenue'})\n",
    "top_products_df.to_csv(\"top_products.csv\", index=False)\n"
   ]
  },
  {
   "cell_type": "code",
   "execution_count": 15,
   "id": "48191a16",
   "metadata": {},
   "outputs": [],
   "source": [
    "# export country wise revenue\n",
    "\n",
    "country_revenue_df = country_revenue.reset_index().rename(columns={'Revenue': 'CountryRevenue'})\n",
    "country_revenue_df.to_csv(\"country_revenue.csv\", index=False)\n"
   ]
  },
  {
   "cell_type": "code",
   "execution_count": 16,
   "id": "397a0c95",
   "metadata": {},
   "outputs": [],
   "source": [
    "# exort top customers\n",
    "\n",
    "top_customers_df = top_customers.reset_index().rename(columns={'Revenue': 'CustomerSpend'})\n",
    "top_customers_df.to_csv(\"top_customers.csv\", index=False)\n"
   ]
  },
  {
   "cell_type": "code",
   "execution_count": null,
   "id": "14d982bb",
   "metadata": {},
   "outputs": [],
   "source": []
  }
 ],
 "metadata": {
  "kernelspec": {
   "display_name": "base",
   "language": "python",
   "name": "python3"
  },
  "language_info": {
   "codemirror_mode": {
    "name": "ipython",
    "version": 3
   },
   "file_extension": ".py",
   "mimetype": "text/x-python",
   "name": "python",
   "nbconvert_exporter": "python",
   "pygments_lexer": "ipython3",
   "version": "3.12.7"
  }
 },
 "nbformat": 4,
 "nbformat_minor": 5
}
